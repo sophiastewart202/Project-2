{
 "cells": [
  {
   "cell_type": "code",
   "execution_count": 3,
   "id": "258a9054-deae-49c6-abf2-e26ae4409f86",
   "metadata": {},
   "outputs": [],
   "source": [
    "# Dependencies and Setup\n",
    "import pandas as pd\n",
    "import os"
   ]
  },
  {
   "cell_type": "code",
   "execution_count": 17,
   "id": "d6bd4e0e-256c-411d-bf84-0040a8fc894b",
   "metadata": {},
   "outputs": [],
   "source": [
    "# File location\n",
    "src_path = 'Resources/raw/'\n",
    "dest_path = 'Resources/aggr/'\n",
    "\n",
    "# File sets for aggregation\n",
    "file_dict = { \n",
    "    'VAERSDATA': [\n",
    "        '2011VAERSDATA.csv',\n",
    "        '2012VAERSDATA.csv',\n",
    "        '2013VAERSDATA.csv',\n",
    "        '2014VAERSDATA.csv',\n",
    "        '2015VAERSDATA.csv',\n",
    "        '2016VAERSDATA.csv',\n",
    "        '2017VAERSDATA.csv',\n",
    "        '2018VAERSDATA.csv',\n",
    "        '2019VAERSDATA.csv',\n",
    "        '2020VAERSDATA.csv',\n",
    "        '2021VAERSDATA.csv'\n",
    "    ],\n",
    "    'VAERSSYMPTOMS': [\n",
    "        '2011VAERSSYMPTOMS.csv',\n",
    "        '2012VAERSSYMPTOMS.csv',\n",
    "        '2013VAERSSYMPTOMS.csv',\n",
    "        '2014VAERSSYMPTOMS.csv',\n",
    "        '2015VAERSSYMPTOMS.csv',\n",
    "        '2016VAERSSYMPTOMS.csv',\n",
    "        '2017VAERSSYMPTOMS.csv',\n",
    "        '2018VAERSSYMPTOMS.csv',\n",
    "        '2019VAERSSYMPTOMS.csv',\n",
    "        '2020VAERSSYMPTOMS.csv',\n",
    "        '2021VAERSSYMPTOMS.csv'\n",
    "    ],\n",
    "    'VAERSVAX': [\n",
    "        '2011VAERSVAX.csv',\n",
    "        '2012VAERSVAX.csv',\n",
    "        '2013VAERSVAX.csv',\n",
    "        '2014VAERSVAX.csv',\n",
    "        '2015VAERSVAX.csv',\n",
    "        '2016VAERSVAX.csv',\n",
    "        '2017VAERSVAX.csv',\n",
    "        '2018VAERSVAX.csv',\n",
    "        '2019VAERSVAX.csv',\n",
    "        '2020VAERSVAX.csv',\n",
    "        '2021VAERSVAX.csv'\n",
    "    ]\n",
    "}\n"
   ]
  },
  {
   "cell_type": "code",
   "execution_count": 21,
   "id": "9eed959c-6271-4138-b2e2-03eff8711438",
   "metadata": {},
   "outputs": [
    {
     "name": "stdout",
     "output_type": "stream",
     "text": [
      "file 2011VAERSDATA.csv read\n",
      "file 2012VAERSDATA.csv read\n",
      "file 2013VAERSDATA.csv read\n",
      "file 2014VAERSDATA.csv read\n",
      "file 2015VAERSDATA.csv read\n",
      "file 2016VAERSDATA.csv read\n",
      "file 2017VAERSDATA.csv read\n",
      "file 2018VAERSDATA.csv read\n",
      "file 2019VAERSDATA.csv read\n",
      "file 2020VAERSDATA.csv read\n",
      "file 2021VAERSDATA.csv read\n",
      "******* VAERSDATA.csv saved\n",
      "file 2011VAERSSYMPTOMS.csv read\n",
      "file 2012VAERSSYMPTOMS.csv read\n",
      "file 2013VAERSSYMPTOMS.csv read\n",
      "file 2014VAERSSYMPTOMS.csv read\n",
      "file 2015VAERSSYMPTOMS.csv read\n",
      "file 2016VAERSSYMPTOMS.csv read\n",
      "file 2017VAERSSYMPTOMS.csv read\n",
      "file 2018VAERSSYMPTOMS.csv read\n",
      "file 2019VAERSSYMPTOMS.csv read\n",
      "file 2020VAERSSYMPTOMS.csv read\n",
      "file 2021VAERSSYMPTOMS.csv read\n",
      "******* VAERSSYMPTOMS.csv saved\n",
      "file 2011VAERSVAX.csv read\n",
      "file 2012VAERSVAX.csv read\n",
      "file 2013VAERSVAX.csv read\n",
      "file 2014VAERSVAX.csv read\n",
      "file 2015VAERSVAX.csv read\n",
      "file 2016VAERSVAX.csv read\n",
      "file 2017VAERSVAX.csv read\n",
      "file 2018VAERSVAX.csv read\n",
      "file 2019VAERSVAX.csv read\n",
      "file 2020VAERSVAX.csv read\n",
      "file 2021VAERSVAX.csv read\n",
      "******* VAERSVAX.csv saved\n"
     ]
    }
   ],
   "source": [
    "# Aggregate yearly files together\n",
    "for prefix in file_dict.keys():\n",
    "    df_list = []\n",
    "    for file in file_dict[prefix]:\n",
    "        df = pd.read_csv(src_path + file, low_memory=False)\n",
    "        df_list.append(df)\n",
    "        print(f\"file {file} read\")\n",
    "    df_aggr = pd.concat(df_list)\n",
    "    df_aggr.to_csv(dest_path + prefix + '.csv', index=False)\n",
    "    print(f'******* {prefix}.csv saved')\n"
   ]
  },
  {
   "cell_type": "code",
   "execution_count": null,
   "id": "3b703a90-b681-4aed-8e4a-f64a1742b2f5",
   "metadata": {},
   "outputs": [],
   "source": []
  }
 ],
 "metadata": {
  "kernelspec": {
   "display_name": "Python 3",
   "language": "python",
   "name": "python3"
  },
  "language_info": {
   "codemirror_mode": {
    "name": "ipython",
    "version": 3
   },
   "file_extension": ".py",
   "mimetype": "text/x-python",
   "name": "python",
   "nbconvert_exporter": "python",
   "pygments_lexer": "ipython3",
   "version": "3.9.4"
  }
 },
 "nbformat": 4,
 "nbformat_minor": 5
}
